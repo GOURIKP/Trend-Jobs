{
 "cells": [
  {
   "cell_type": "code",
   "execution_count": 2,
   "metadata": {},
   "outputs": [
    {
     "name": "stdout",
     "output_type": "stream",
     "text": [
      "                                               title  \\\n",
      "0  Junior Data Scientist / Junior Software Developer   \n",
      "1                Sr Data Scientist - Retail Pharmacy   \n",
      "2                                 Sr. Data Scientist   \n",
      "3           Data Scientist, Medicare Stars Analytics   \n",
      "4  Senior Data Scientist (Center for Securing the...   \n",
      "\n",
      "                                   company                location  \\\n",
      "0                            SynergisticIT              Boston, MA   \n",
      "1                               CVS Health           Wellesley, MA   \n",
      "2                          Thomson Reuters              Boston, MA   \n",
      "3  Blue Cross Blue Shield of Massachusetts              Boston, MA   \n",
      "4                    The MITRE Corporation  Bedford, MA (+1 other)   \n",
      "\n",
      "                                         description  salary   posted_at  \\\n",
      "0  2024 is almost over and we hope the Job market...   86.32  02-02-2025   \n",
      "1  Bring your heart to CVS Health. Every one of u...    8.19  30-01-2025   \n",
      "2  Location: Hybrid 2-3x per week in Boston, MA\\n...   45.00  11-01-2025   \n",
      "3  Position Summary:\\n\\nAs a core member of the P...   24.00  06-01-2025   \n",
      "4  Why choose between doing meaningful work and h...   45.00  28-01-2025   \n",
      "\n",
      "                                              skills  \\\n",
      "0  ['Python', 'Machine Learning', 'Data Science',...   \n",
      "1       ['Python', 'SQL', 'Machine Learning', 'AWS']   \n",
      "2  ['Python', 'Machine Learning', 'Data Science',...   \n",
      "3                                         ['Python']   \n",
      "4  ['Python', 'SQL', 'Machine Learning', 'Data Sc...   \n",
      "\n",
      "                                      qualifications  \n",
      "0  Who Should Apply Recent Computer science/Engin...  \n",
      "1  3+ years of relevant analytic experience, Expe...  \n",
      "2  A Bachelor’s degree in a quantitative field or...  \n",
      "3  A deep understanding of business operation, co...  \n",
      "4  Typically requires a minimum of 5 years of rel...  \n"
     ]
    }
   ],
   "source": [
    "import pandas as pd\n",
    "\n",
    "# File path\n",
    "file_path =r'path_to_dataset",
    "\n",
    "# Read the CSV file into a DataFrame\n",
    "data = pd.read_csv(file_path)\n",
    "\n",
    "# Display the first few rows to verify the data is loaded correctly\n",
    "print(data.head())\n",
    "\n"
   ]
  },
  {
   "cell_type": "code",
   "execution_count": 3,
   "metadata": {},
   "outputs": [
    {
     "data": {
      "text/html": [
       "<div>\n",
       "<style scoped>\n",
       "    .dataframe tbody tr th:only-of-type {\n",
       "        vertical-align: middle;\n",
       "    }\n",
       "\n",
       "    .dataframe tbody tr th {\n",
       "        vertical-align: top;\n",
       "    }\n",
       "\n",
       "    .dataframe thead th {\n",
       "        text-align: right;\n",
       "    }\n",
       "</style>\n",
       "<table border=\"1\" class=\"dataframe\">\n",
       "  <thead>\n",
       "    <tr style=\"text-align: right;\">\n",
       "      <th></th>\n",
       "      <th>posted_at</th>\n",
       "      <th>year</th>\n",
       "      <th>month</th>\n",
       "    </tr>\n",
       "  </thead>\n",
       "  <tbody>\n",
       "    <tr>\n",
       "      <th>0</th>\n",
       "      <td>2025-02-02</td>\n",
       "      <td>2025</td>\n",
       "      <td>2</td>\n",
       "    </tr>\n",
       "    <tr>\n",
       "      <th>1</th>\n",
       "      <td>2025-01-30</td>\n",
       "      <td>2025</td>\n",
       "      <td>1</td>\n",
       "    </tr>\n",
       "    <tr>\n",
       "      <th>2</th>\n",
       "      <td>2025-01-11</td>\n",
       "      <td>2025</td>\n",
       "      <td>1</td>\n",
       "    </tr>\n",
       "    <tr>\n",
       "      <th>3</th>\n",
       "      <td>2025-01-06</td>\n",
       "      <td>2025</td>\n",
       "      <td>1</td>\n",
       "    </tr>\n",
       "    <tr>\n",
       "      <th>4</th>\n",
       "      <td>2025-01-28</td>\n",
       "      <td>2025</td>\n",
       "      <td>1</td>\n",
       "    </tr>\n",
       "  </tbody>\n",
       "</table>\n",
       "</div>"
      ],
      "text/plain": [
       "   posted_at  year  month\n",
       "0 2025-02-02  2025      2\n",
       "1 2025-01-30  2025      1\n",
       "2 2025-01-11  2025      1\n",
       "3 2025-01-06  2025      1\n",
       "4 2025-01-28  2025      1"
      ]
     },
     "execution_count": 3,
     "metadata": {},
     "output_type": "execute_result"
    }
   ],
   "source": [
    "# Convert `posted_at` to datetime format\n",
    "data['posted_at'] = pd.to_datetime(data['posted_at'], format='%d-%m-%Y')\n",
    "\n",
    "# Extract year and month for trend analysis\n",
    "data['year'] = data['posted_at'].dt.year\n",
    "data['month'] = data['posted_at'].dt.month\n",
    "\n",
    "# Check the result\n",
    "data[['posted_at', 'year', 'month']].head()\n"
   ]
  },
  {
   "cell_type": "code",
   "execution_count": 4,
   "metadata": {},
   "outputs": [
    {
     "data": {
      "text/plain": [
       "[('AWS', 148),\n",
       " ('Python', 147),\n",
       " ('Agile', 128),\n",
       " ('SQL', 115),\n",
       " ('Machine Learning', 95),\n",
       " ('Java', 86),\n",
       " ('C++', 75),\n",
       " ('JavaScript', 69),\n",
       " ('Azure', 67),\n",
       " ('Cybersecurity', 66)]"
      ]
     },
     "execution_count": 4,
     "metadata": {},
     "output_type": "execute_result"
    }
   ],
   "source": [
    "import ast\n",
    "from collections import Counter\n",
    "\n",
    "# Convert the stringified list in `skills` column to an actual list\n",
    "data['skills'] = data['skills'].apply(ast.literal_eval)\n",
    "\n",
    "# Flatten all skills into a single list for frequency analysis\n",
    "all_skills = [skill for skill_list in data['skills'] for skill in skill_list]\n",
    "skill_counts = Counter(all_skills)\n",
    "\n",
    "# Display the top 10 most common skills\n",
    "skill_counts.most_common(10)\n"
   ]
  },
  {
   "cell_type": "code",
   "execution_count": 5,
   "metadata": {},
   "outputs": [
    {
     "data": {
      "text/html": [
       "<div>\n",
       "<style scoped>\n",
       "    .dataframe tbody tr th:only-of-type {\n",
       "        vertical-align: middle;\n",
       "    }\n",
       "\n",
       "    .dataframe tbody tr th {\n",
       "        vertical-align: top;\n",
       "    }\n",
       "\n",
       "    .dataframe thead th {\n",
       "        text-align: right;\n",
       "    }\n",
       "</style>\n",
       "<table border=\"1\" class=\"dataframe\">\n",
       "  <thead>\n",
       "    <tr style=\"text-align: right;\">\n",
       "      <th></th>\n",
       "      <th>salary</th>\n",
       "      <th>salary_normalized</th>\n",
       "      <th>salary_bins</th>\n",
       "    </tr>\n",
       "  </thead>\n",
       "  <tbody>\n",
       "    <tr>\n",
       "      <th>0</th>\n",
       "      <td>86.32</td>\n",
       "      <td>0.156415</td>\n",
       "      <td>50-100k</td>\n",
       "    </tr>\n",
       "    <tr>\n",
       "      <th>1</th>\n",
       "      <td>8.19</td>\n",
       "      <td>0.011138</td>\n",
       "      <td>0-50k</td>\n",
       "    </tr>\n",
       "    <tr>\n",
       "      <th>2</th>\n",
       "      <td>45.00</td>\n",
       "      <td>0.079583</td>\n",
       "      <td>0-50k</td>\n",
       "    </tr>\n",
       "    <tr>\n",
       "      <th>3</th>\n",
       "      <td>24.00</td>\n",
       "      <td>0.040536</td>\n",
       "      <td>0-50k</td>\n",
       "    </tr>\n",
       "    <tr>\n",
       "      <th>4</th>\n",
       "      <td>45.00</td>\n",
       "      <td>0.079583</td>\n",
       "      <td>0-50k</td>\n",
       "    </tr>\n",
       "  </tbody>\n",
       "</table>\n",
       "</div>"
      ],
      "text/plain": [
       "   salary  salary_normalized salary_bins\n",
       "0   86.32           0.156415     50-100k\n",
       "1    8.19           0.011138       0-50k\n",
       "2   45.00           0.079583       0-50k\n",
       "3   24.00           0.040536       0-50k\n",
       "4   45.00           0.079583       0-50k"
      ]
     },
     "execution_count": 5,
     "metadata": {},
     "output_type": "execute_result"
    }
   ],
   "source": [
    "# Normalize salary (Min-Max Scaling)\n",
    "from sklearn.preprocessing import MinMaxScaler\n",
    "\n",
    "scaler = MinMaxScaler()\n",
    "data['salary_normalized'] = scaler.fit_transform(data[['salary']])\n",
    "\n",
    "# Bin salaries into ranges\n",
    "bins = [0, 50, 100, 150, 200, 500]\n",
    "labels = ['0-50k', '50-100k', '100-150k', '150-200k', '200k+']\n",
    "data['salary_bins'] = pd.cut(data['salary'], bins=bins, labels=labels)\n",
    "\n",
    "# Check the result\n",
    "data[['salary', 'salary_normalized', 'salary_bins']].head()\n"
   ]
  },
  {
   "cell_type": "code",
   "execution_count": 6,
   "metadata": {},
   "outputs": [
    {
     "data": {
      "text/html": [
       "<div>\n",
       "<style scoped>\n",
       "    .dataframe tbody tr th:only-of-type {\n",
       "        vertical-align: middle;\n",
       "    }\n",
       "\n",
       "    .dataframe tbody tr th {\n",
       "        vertical-align: top;\n",
       "    }\n",
       "\n",
       "    .dataframe thead th {\n",
       "        text-align: right;\n",
       "    }\n",
       "</style>\n",
       "<table border=\"1\" class=\"dataframe\">\n",
       "  <thead>\n",
       "    <tr style=\"text-align: right;\">\n",
       "      <th></th>\n",
       "      <th>location</th>\n",
       "      <th>city</th>\n",
       "      <th>state</th>\n",
       "    </tr>\n",
       "  </thead>\n",
       "  <tbody>\n",
       "    <tr>\n",
       "      <th>0</th>\n",
       "      <td>Boston, MA</td>\n",
       "      <td>Boston</td>\n",
       "      <td>MA</td>\n",
       "    </tr>\n",
       "    <tr>\n",
       "      <th>1</th>\n",
       "      <td>Wellesley, MA</td>\n",
       "      <td>Wellesley</td>\n",
       "      <td>MA</td>\n",
       "    </tr>\n",
       "    <tr>\n",
       "      <th>2</th>\n",
       "      <td>Boston, MA</td>\n",
       "      <td>Boston</td>\n",
       "      <td>MA</td>\n",
       "    </tr>\n",
       "    <tr>\n",
       "      <th>3</th>\n",
       "      <td>Boston, MA</td>\n",
       "      <td>Boston</td>\n",
       "      <td>MA</td>\n",
       "    </tr>\n",
       "    <tr>\n",
       "      <th>4</th>\n",
       "      <td>Bedford, MA</td>\n",
       "      <td>Bedford</td>\n",
       "      <td>MA</td>\n",
       "    </tr>\n",
       "  </tbody>\n",
       "</table>\n",
       "</div>"
      ],
      "text/plain": [
       "        location       city state\n",
       "0     Boston, MA     Boston    MA\n",
       "1  Wellesley, MA  Wellesley    MA\n",
       "2     Boston, MA     Boston    MA\n",
       "3     Boston, MA     Boston    MA\n",
       "4    Bedford, MA    Bedford    MA"
      ]
     },
     "execution_count": 6,
     "metadata": {},
     "output_type": "execute_result"
    }
   ],
   "source": [
    "# Simplify multi-location entries (e.g., \"Boston, MA (+1 other)\")\n",
    "data['location'] = data['location'].str.split('(').str[0].str.strip()\n",
    "\n",
    "# Extract city and state separately if needed\n",
    "data[['city', 'state']] = data['location'].str.split(',', expand=True)\n",
    "\n",
    "# Check the result\n",
    "data[['location', 'city', 'state']].head()\n"
   ]
  },
  {
   "cell_type": "code",
   "execution_count": 7,
   "metadata": {},
   "outputs": [
    {
     "name": "stdout",
     "output_type": "stream",
     "text": [
      "Description Keywords: ['business' 'data' 'experience' 'management' 'security' 'skills' 'support'\n",
      " 'team' 'technical' 'work']\n",
      "Qualification Keywords: ['ability' 'data' 'degree' 'experience' 'knowledge' 'management' 'skills'\n",
      " 'strong' 'work' 'years']\n"
     ]
    }
   ],
   "source": [
    "from sklearn.feature_extraction.text import CountVectorizer\n",
    "\n",
    "# Function to extract top keywords\n",
    "def extract_top_keywords(text_column, top_n=10):\n",
    "    vectorizer = CountVectorizer(stop_words='english', max_features=top_n)\n",
    "    matrix = vectorizer.fit_transform(data[text_column])\n",
    "    keywords = vectorizer.get_feature_names_out()\n",
    "    return keywords\n",
    "\n",
    "# Extract keywords from `description` and `qualifications`\n",
    "description_keywords = extract_top_keywords('description')\n",
    "qualification_keywords = extract_top_keywords('qualifications')\n",
    "\n",
    "# Print top keywords\n",
    "print(\"Description Keywords:\", description_keywords)\n",
    "print(\"Qualification Keywords:\", qualification_keywords)\n"
   ]
  },
  {
   "cell_type": "code",
   "execution_count": 8,
   "metadata": {},
   "outputs": [
    {
     "data": {
      "text/html": [
       "<div>\n",
       "<style scoped>\n",
       "    .dataframe tbody tr th:only-of-type {\n",
       "        vertical-align: middle;\n",
       "    }\n",
       "\n",
       "    .dataframe tbody tr th {\n",
       "        vertical-align: top;\n",
       "    }\n",
       "\n",
       "    .dataframe thead th {\n",
       "        text-align: right;\n",
       "    }\n",
       "</style>\n",
       "<table border=\"1\" class=\"dataframe\">\n",
       "  <thead>\n",
       "    <tr style=\"text-align: right;\">\n",
       "      <th></th>\n",
       "      <th>year</th>\n",
       "      <th>month</th>\n",
       "      <th>job_count</th>\n",
       "    </tr>\n",
       "  </thead>\n",
       "  <tbody>\n",
       "    <tr>\n",
       "      <th>0</th>\n",
       "      <td>2025</td>\n",
       "      <td>1</td>\n",
       "      <td>373</td>\n",
       "    </tr>\n",
       "    <tr>\n",
       "      <th>1</th>\n",
       "      <td>2025</td>\n",
       "      <td>2</td>\n",
       "      <td>68</td>\n",
       "    </tr>\n",
       "  </tbody>\n",
       "</table>\n",
       "</div>"
      ],
      "text/plain": [
       "   year  month  job_count\n",
       "0  2025      1        373\n",
       "1  2025      2         68"
      ]
     },
     "execution_count": 8,
     "metadata": {},
     "output_type": "execute_result"
    }
   ],
   "source": [
    "# Group by year and month for trend analysis\n",
    "job_trends = data.groupby(['year', 'month']).size().reset_index(name='job_count')\n",
    "\n",
    "# Check the result\n",
    "job_trends.head()\n"
   ]
  },
  {
   "cell_type": "code",
   "execution_count": 9,
   "metadata": {},
   "outputs": [
    {
     "data": {
      "text/plain": [
       "count    410.000000\n",
       "mean      52.406341\n",
       "std       50.743109\n",
       "min        2.200000\n",
       "25%       10.000000\n",
       "50%       31.125000\n",
       "75%       88.706250\n",
       "max      228.250000\n",
       "Name: salary, dtype: float64"
      ]
     },
     "execution_count": 9,
     "metadata": {},
     "output_type": "execute_result"
    }
   ],
   "source": [
    "# Calculate salary IQR (Interquartile Range)\n",
    "Q1 = data['salary'].quantile(0.25)\n",
    "Q3 = data['salary'].quantile(0.75)\n",
    "IQR = Q3 - Q1\n",
    "\n",
    "# Define outlier thresholds\n",
    "lower_bound = Q1 - 1.5 * IQR\n",
    "upper_bound = Q3 + 1.5 * IQR\n",
    "\n",
    "# Remove outliers\n",
    "data_cleaned = data[(data['salary'] >= lower_bound) & (data['salary'] <= upper_bound)]\n",
    "\n",
    "# Check the result\n",
    "data_cleaned['salary'].describe()\n"
   ]
  },
  {
   "cell_type": "code",
   "execution_count": 10,
   "metadata": {},
   "outputs": [
    {
     "data": {
      "text/html": [
       "<div>\n",
       "<style scoped>\n",
       "    .dataframe tbody tr th:only-of-type {\n",
       "        vertical-align: middle;\n",
       "    }\n",
       "\n",
       "    .dataframe tbody tr th {\n",
       "        vertical-align: top;\n",
       "    }\n",
       "\n",
       "    .dataframe thead th {\n",
       "        text-align: right;\n",
       "    }\n",
       "</style>\n",
       "<table border=\"1\" class=\"dataframe\">\n",
       "  <thead>\n",
       "    <tr style=\"text-align: right;\">\n",
       "      <th></th>\n",
       "      <th>title</th>\n",
       "      <th>job_category</th>\n",
       "    </tr>\n",
       "  </thead>\n",
       "  <tbody>\n",
       "    <tr>\n",
       "      <th>0</th>\n",
       "      <td>Junior Data Scientist / Junior Software Developer</td>\n",
       "      <td>Data Scientist</td>\n",
       "    </tr>\n",
       "    <tr>\n",
       "      <th>1</th>\n",
       "      <td>Sr Data Scientist - Retail Pharmacy</td>\n",
       "      <td>Data Scientist</td>\n",
       "    </tr>\n",
       "    <tr>\n",
       "      <th>2</th>\n",
       "      <td>Sr. Data Scientist</td>\n",
       "      <td>Data Scientist</td>\n",
       "    </tr>\n",
       "    <tr>\n",
       "      <th>3</th>\n",
       "      <td>Data Scientist, Medicare Stars Analytics</td>\n",
       "      <td>Data Scientist</td>\n",
       "    </tr>\n",
       "    <tr>\n",
       "      <th>4</th>\n",
       "      <td>Senior Data Scientist (Center for Securing the...</td>\n",
       "      <td>Data Scientist</td>\n",
       "    </tr>\n",
       "  </tbody>\n",
       "</table>\n",
       "</div>"
      ],
      "text/plain": [
       "                                               title    job_category\n",
       "0  Junior Data Scientist / Junior Software Developer  Data Scientist\n",
       "1                Sr Data Scientist - Retail Pharmacy  Data Scientist\n",
       "2                                 Sr. Data Scientist  Data Scientist\n",
       "3           Data Scientist, Medicare Stars Analytics  Data Scientist\n",
       "4  Senior Data Scientist (Center for Securing the...  Data Scientist"
      ]
     },
     "execution_count": 10,
     "metadata": {},
     "output_type": "execute_result"
    }
   ],
   "source": [
    "# Define custom job categories\n",
    "def classify_job(title):\n",
    "    if 'Data Scientist' in title:\n",
    "        return 'Data Scientist'\n",
    "    elif 'Analyst' in title:\n",
    "        return 'Analyst'\n",
    "    elif 'Engineer' in title:\n",
    "        return 'Engineer'\n",
    "    else:\n",
    "        return 'Other'\n",
    "\n",
    "# Apply classification\n",
    "data['job_category'] = data['title'].apply(classify_job)\n",
    "\n",
    "# Check the result\n",
    "data[['title', 'job_category']].head()\n"
   ]
  },
  {
   "cell_type": "code",
   "execution_count": 11,
   "metadata": {},
   "outputs": [
    {
     "data": {
      "text/html": [
       "<div>\n",
       "<style scoped>\n",
       "    .dataframe tbody tr th:only-of-type {\n",
       "        vertical-align: middle;\n",
       "    }\n",
       "\n",
       "    .dataframe tbody tr th {\n",
       "        vertical-align: top;\n",
       "    }\n",
       "\n",
       "    .dataframe thead th {\n",
       "        text-align: right;\n",
       "    }\n",
       "</style>\n",
       "<table border=\"1\" class=\"dataframe\">\n",
       "  <thead>\n",
       "    <tr style=\"text-align: right;\">\n",
       "      <th></th>\n",
       "      <th>company</th>\n",
       "      <th>company_encoded</th>\n",
       "      <th>location</th>\n",
       "      <th>location_encoded</th>\n",
       "    </tr>\n",
       "  </thead>\n",
       "  <tbody>\n",
       "    <tr>\n",
       "      <th>0</th>\n",
       "      <td>SynergisticIT</td>\n",
       "      <td>284</td>\n",
       "      <td>Boston, MA</td>\n",
       "      <td>23</td>\n",
       "    </tr>\n",
       "    <tr>\n",
       "      <th>1</th>\n",
       "      <td>CVS Health</td>\n",
       "      <td>49</td>\n",
       "      <td>Wellesley, MA</td>\n",
       "      <td>208</td>\n",
       "    </tr>\n",
       "    <tr>\n",
       "      <th>2</th>\n",
       "      <td>Thomson Reuters</td>\n",
       "      <td>309</td>\n",
       "      <td>Boston, MA</td>\n",
       "      <td>23</td>\n",
       "    </tr>\n",
       "    <tr>\n",
       "      <th>3</th>\n",
       "      <td>Blue Cross Blue Shield of Massachusetts</td>\n",
       "      <td>37</td>\n",
       "      <td>Boston, MA</td>\n",
       "      <td>23</td>\n",
       "    </tr>\n",
       "    <tr>\n",
       "      <th>4</th>\n",
       "      <td>The MITRE Corporation</td>\n",
       "      <td>307</td>\n",
       "      <td>Bedford, MA</td>\n",
       "      <td>14</td>\n",
       "    </tr>\n",
       "  </tbody>\n",
       "</table>\n",
       "</div>"
      ],
      "text/plain": [
       "                                   company  company_encoded       location  \\\n",
       "0                            SynergisticIT              284     Boston, MA   \n",
       "1                               CVS Health               49  Wellesley, MA   \n",
       "2                          Thomson Reuters              309     Boston, MA   \n",
       "3  Blue Cross Blue Shield of Massachusetts               37     Boston, MA   \n",
       "4                    The MITRE Corporation              307    Bedford, MA   \n",
       "\n",
       "   location_encoded  \n",
       "0                23  \n",
       "1               208  \n",
       "2                23  \n",
       "3                23  \n",
       "4                14  "
      ]
     },
     "execution_count": 11,
     "metadata": {},
     "output_type": "execute_result"
    }
   ],
   "source": [
    "# Encode categorical columns\n",
    "data['company_encoded'] = data['company'].astype('category').cat.codes\n",
    "data['location_encoded'] = data['location'].astype('category').cat.codes\n",
    "\n",
    "# Check the result\n",
    "data[['company', 'company_encoded', 'location', 'location_encoded']].head()\n"
   ]
  },
  {
   "cell_type": "code",
   "execution_count": 12,
   "metadata": {},
   "outputs": [
    {
     "name": "stdout",
     "output_type": "stream",
     "text": [
      "Processed dataset saved as 'processed_jobs_data.csv'\n"
     ]
    }
   ],
   "source": [
    "# Save the cleaned dataset for Tableau visualization\n",
    "data.to_csv('processed_jobs_data.csv', index=False)\n",
    "print(\"Processed dataset saved as 'processed_jobs_data.csv'\")\n"
   ]
  },
  {
   "cell_type": "code",
   "execution_count": null,
   "metadata": {},
   "outputs": [],
   "source": []
  }
 ],
 "metadata": {
  "kernelspec": {
   "display_name": "myenv",
   "language": "python",
   "name": "python3"
  },
  "language_info": {
   "codemirror_mode": {
    "name": "ipython",
    "version": 3
   },
   "file_extension": ".py",
   "mimetype": "text/x-python",
   "name": "python",
   "nbconvert_exporter": "python",
   "pygments_lexer": "ipython3",
   "version": "3.11.7"
  }
 },
 "nbformat": 4,
 "nbformat_minor": 2
}
